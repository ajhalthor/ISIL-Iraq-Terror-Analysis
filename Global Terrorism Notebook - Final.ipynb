{
 "cells": [
  {
   "cell_type": "markdown",
   "metadata": {},
   "source": [
    "The data consists of over 170,000 cases of terrorism worldwide, documented from 1970 to 2016. Each tuple represents a terrorist attack. Let us see what we can infer from this data. We begin by importing the following libraries:\n",
    "- **matplotlib**: Display graphs/charts\n",
    "- **nltk**: Natural Langauge Processing Toolkit to deal with Text data.\n",
    "- **numpy**: Python's library for mathematical operations\n",
    "- **operator**: Only used once for dictionary sort\n",
    "- **pandas**: Deals with data storage and manipulation in the form of Dataframes. \n",
    "- **Seaborn**: The library that generates the scatterplots, boxplots, histograms"
   ]
  },
  {
   "cell_type": "code",
   "execution_count": 1,
   "metadata": {
    "collapsed": true
   },
   "outputs": [],
   "source": [
    "import matplotlib.pyplot as plt\n",
    "import nltk\n",
    "import numpy as np\n",
    "import operator\n",
    "import pandas as pd\n",
    "import seaborn as sns\n",
    "\n",
    "from collections import Counter\n",
    "from nltk.tokenize import PunktSentenceTokenizer\n",
    "from nltk.chunk import RegexpParser"
   ]
  },
  {
   "cell_type": "markdown",
   "metadata": {},
   "source": [
    "In NLTK, we also include: \n",
    "- **PunctSentenceTokenizer:** to split a paragraph into constitutent sentences\n",
    "- **RegexpParser:** To perform chunking of words and recognize key phrases. More on this later.\n",
    "\n",
    "We now read the csv file into a Data Frame and display the first 5 rows for reference."
   ]
  },
  {
   "cell_type": "code",
   "execution_count": 3,
   "metadata": {},
   "outputs": [
    {
     "data": {
      "text/html": [
       "<div>\n",
       "<style>\n",
       "    .dataframe thead tr:only-child th {\n",
       "        text-align: right;\n",
       "    }\n",
       "\n",
       "    .dataframe thead th {\n",
       "        text-align: left;\n",
       "    }\n",
       "\n",
       "    .dataframe tbody tr th {\n",
       "        vertical-align: top;\n",
       "    }\n",
       "</style>\n",
       "<table border=\"1\" class=\"dataframe\">\n",
       "  <thead>\n",
       "    <tr style=\"text-align: right;\">\n",
       "      <th></th>\n",
       "      <th>eventid</th>\n",
       "      <th>iyear</th>\n",
       "      <th>imonth</th>\n",
       "      <th>iday</th>\n",
       "      <th>approxdate</th>\n",
       "      <th>extended</th>\n",
       "      <th>resolution</th>\n",
       "      <th>country</th>\n",
       "      <th>country_txt</th>\n",
       "      <th>region</th>\n",
       "      <th>...</th>\n",
       "      <th>addnotes</th>\n",
       "      <th>scite1</th>\n",
       "      <th>scite2</th>\n",
       "      <th>scite3</th>\n",
       "      <th>dbsource</th>\n",
       "      <th>INT_LOG</th>\n",
       "      <th>INT_IDEO</th>\n",
       "      <th>INT_MISC</th>\n",
       "      <th>INT_ANY</th>\n",
       "      <th>related</th>\n",
       "    </tr>\n",
       "  </thead>\n",
       "  <tbody>\n",
       "    <tr>\n",
       "      <th>0</th>\n",
       "      <td>197000000001</td>\n",
       "      <td>1970</td>\n",
       "      <td>7</td>\n",
       "      <td>2</td>\n",
       "      <td>NaN</td>\n",
       "      <td>0</td>\n",
       "      <td>NaN</td>\n",
       "      <td>58</td>\n",
       "      <td>Dominican Republic</td>\n",
       "      <td>2</td>\n",
       "      <td>...</td>\n",
       "      <td>NaN</td>\n",
       "      <td>NaN</td>\n",
       "      <td>NaN</td>\n",
       "      <td>NaN</td>\n",
       "      <td>PGIS</td>\n",
       "      <td>0</td>\n",
       "      <td>0</td>\n",
       "      <td>0</td>\n",
       "      <td>0</td>\n",
       "      <td>NaN</td>\n",
       "    </tr>\n",
       "    <tr>\n",
       "      <th>1</th>\n",
       "      <td>197000000002</td>\n",
       "      <td>1970</td>\n",
       "      <td>0</td>\n",
       "      <td>0</td>\n",
       "      <td>NaN</td>\n",
       "      <td>0</td>\n",
       "      <td>NaN</td>\n",
       "      <td>130</td>\n",
       "      <td>Mexico</td>\n",
       "      <td>1</td>\n",
       "      <td>...</td>\n",
       "      <td>NaN</td>\n",
       "      <td>NaN</td>\n",
       "      <td>NaN</td>\n",
       "      <td>NaN</td>\n",
       "      <td>PGIS</td>\n",
       "      <td>0</td>\n",
       "      <td>1</td>\n",
       "      <td>1</td>\n",
       "      <td>1</td>\n",
       "      <td>NaN</td>\n",
       "    </tr>\n",
       "    <tr>\n",
       "      <th>2</th>\n",
       "      <td>197001000001</td>\n",
       "      <td>1970</td>\n",
       "      <td>1</td>\n",
       "      <td>0</td>\n",
       "      <td>NaN</td>\n",
       "      <td>0</td>\n",
       "      <td>NaN</td>\n",
       "      <td>160</td>\n",
       "      <td>Philippines</td>\n",
       "      <td>5</td>\n",
       "      <td>...</td>\n",
       "      <td>NaN</td>\n",
       "      <td>NaN</td>\n",
       "      <td>NaN</td>\n",
       "      <td>NaN</td>\n",
       "      <td>PGIS</td>\n",
       "      <td>-9</td>\n",
       "      <td>-9</td>\n",
       "      <td>1</td>\n",
       "      <td>1</td>\n",
       "      <td>NaN</td>\n",
       "    </tr>\n",
       "    <tr>\n",
       "      <th>3</th>\n",
       "      <td>197001000002</td>\n",
       "      <td>1970</td>\n",
       "      <td>1</td>\n",
       "      <td>0</td>\n",
       "      <td>NaN</td>\n",
       "      <td>0</td>\n",
       "      <td>NaN</td>\n",
       "      <td>78</td>\n",
       "      <td>Greece</td>\n",
       "      <td>8</td>\n",
       "      <td>...</td>\n",
       "      <td>NaN</td>\n",
       "      <td>NaN</td>\n",
       "      <td>NaN</td>\n",
       "      <td>NaN</td>\n",
       "      <td>PGIS</td>\n",
       "      <td>-9</td>\n",
       "      <td>-9</td>\n",
       "      <td>1</td>\n",
       "      <td>1</td>\n",
       "      <td>NaN</td>\n",
       "    </tr>\n",
       "    <tr>\n",
       "      <th>4</th>\n",
       "      <td>197001000003</td>\n",
       "      <td>1970</td>\n",
       "      <td>1</td>\n",
       "      <td>0</td>\n",
       "      <td>NaN</td>\n",
       "      <td>0</td>\n",
       "      <td>NaN</td>\n",
       "      <td>101</td>\n",
       "      <td>Japan</td>\n",
       "      <td>4</td>\n",
       "      <td>...</td>\n",
       "      <td>NaN</td>\n",
       "      <td>NaN</td>\n",
       "      <td>NaN</td>\n",
       "      <td>NaN</td>\n",
       "      <td>PGIS</td>\n",
       "      <td>-9</td>\n",
       "      <td>-9</td>\n",
       "      <td>1</td>\n",
       "      <td>1</td>\n",
       "      <td>NaN</td>\n",
       "    </tr>\n",
       "  </tbody>\n",
       "</table>\n",
       "<p>5 rows × 135 columns</p>\n",
       "</div>"
      ],
      "text/plain": [
       "        eventid  iyear  imonth  iday approxdate  extended resolution  country  \\\n",
       "0  197000000001   1970       7     2        NaN         0        NaN       58   \n",
       "1  197000000002   1970       0     0        NaN         0        NaN      130   \n",
       "2  197001000001   1970       1     0        NaN         0        NaN      160   \n",
       "3  197001000002   1970       1     0        NaN         0        NaN       78   \n",
       "4  197001000003   1970       1     0        NaN         0        NaN      101   \n",
       "\n",
       "          country_txt  region   ...    addnotes scite1 scite2  scite3  \\\n",
       "0  Dominican Republic       2   ...         NaN    NaN    NaN     NaN   \n",
       "1              Mexico       1   ...         NaN    NaN    NaN     NaN   \n",
       "2         Philippines       5   ...         NaN    NaN    NaN     NaN   \n",
       "3              Greece       8   ...         NaN    NaN    NaN     NaN   \n",
       "4               Japan       4   ...         NaN    NaN    NaN     NaN   \n",
       "\n",
       "   dbsource  INT_LOG  INT_IDEO INT_MISC INT_ANY  related  \n",
       "0      PGIS        0         0        0       0      NaN  \n",
       "1      PGIS        0         1        1       1      NaN  \n",
       "2      PGIS       -9        -9        1       1      NaN  \n",
       "3      PGIS       -9        -9        1       1      NaN  \n",
       "4      PGIS       -9        -9        1       1      NaN  \n",
       "\n",
       "[5 rows x 135 columns]"
      ]
     },
     "execution_count": 3,
     "metadata": {},
     "output_type": "execute_result"
    }
   ],
   "source": [
    "data = pd.read_csv('globalterrorismdb_0617dist.csv', encoding=\"ISO-8859-1\", low_memory=False)\n",
    "data.head(n=5)"
   ]
  },
  {
   "cell_type": "markdown",
   "metadata": {},
   "source": [
    "I include a _low memory_ argument to prevent mixed types assigned to a given column. It is mostly advised to used the dtype argument and specify the type for each column name. However, since there are 135 columns, most of which I do not know much about, I'm going by the lazy approach and setting low_memory to False.\n",
    "\n",
    "Pulling this data up on Excel, we see Half of them are numerically encoded column values while the others are Text forms of the same. Just looking at this data, I feel like I can answer a number of questions:\n",
    "1. Where exactly have the terrorist attacks taken place?\n",
    "2. In these regions, can we plot a time series chart to show how much terrorism has increased/decreased?\n",
    "3. Analyze Text data summary, to understand some more details not specified by other columns.\n",
    "4. What was the nature of the Terrorist attacks in a particular country/state over the years? (From attacktype_1, attacktype_2 and attacktype_3)\n",
    "5. What/Who was the target of their assault? (targtype)\n",
    "6. Can we get more details from 5? Like what _exactly_ was the type of institution being targetted? (targsubtype)\n",
    "7. Analyze Text data on motive to understand why the terrorist attack was carried out.\n",
    "8. What weapons were used in the assault? (weaptype1 - 4) Can we get more details on the exact weapons? (weapsubtype)\n",
    "9. Overall Price of property destroyed? (propvalue)\n",
    "10. Who were these terrorists? (gname)\n",
    "11. What propery was actually destroyed? (propcomment)\n",
    "12. In the kidnapping situations, were the hostages released? \n",
    "13. Analyze Text data on addnotes. What else can we infer from the data?"
   ]
  },
  {
   "cell_type": "markdown",
   "metadata": {},
   "source": [
    "These are just a handful of questions I came up with off the top of my head. We can possibly find more information, given time. It is easy to get lost in this wealth of data. Instead of boiling the ocean at the surface, I will delve into a single aspect. So, where do we start? Let us take a look at the countries that are the most targetted."
   ]
  },
  {
   "cell_type": "code",
   "execution_count": 4,
   "metadata": {},
   "outputs": [
    {
     "data": {
      "text/plain": [
       "Iraq                        22130\n",
       "Pakistan                    13634\n",
       "Afghanistan                 11306\n",
       "India                       10978\n",
       "Colombia                     8163\n",
       "Philippines                  6212\n",
       "Peru                         6088\n",
       "El Salvador                  5320\n",
       "United Kingdom               5098\n",
       "Turkey                       4106\n",
       "Thailand                     3668\n",
       "Somalia                      3482\n",
       "Nigeria                      3418\n",
       "Spain                        3245\n",
       "Yemen                        3109\n",
       "Sri Lanka                    2981\n",
       "United States                2758\n",
       "Algeria                      2729\n",
       "France                       2642\n",
       "Lebanon                      2454\n",
       "Chile                        2351\n",
       "Egypt                        2165\n",
       "Russia                       2158\n",
       "West Bank and Gaza Strip     2144\n",
       "Israel                       2133\n",
       "Libya                        2053\n",
       "Guatemala                    2050\n",
       "Name: country_txt, dtype: int64"
      ]
     },
     "execution_count": 4,
     "metadata": {},
     "output_type": "execute_result"
    }
   ],
   "source": [
    "freq_dist = data['country_txt'].value_counts()\n",
    "freq_dist[freq_dist > 2000]"
   ]
  },
  {
   "cell_type": "markdown",
   "metadata": {},
   "source": [
    "At the top of the list, we have Iraq with over $22,000$ documents cases of terrorism. Let us focus on Terrorist attacks in Iraq. On to the next question: Who exactly is responsible for these attrocities in Iraq?"
   ]
  },
  {
   "cell_type": "code",
   "execution_count": 5,
   "metadata": {},
   "outputs": [
    {
     "data": {
      "text/plain": [
       "Unknown                                        17211\n",
       "Islamic State of Iraq and the Levant (ISIL)     3635\n",
       "Al-Qaida in Iraq                                 630\n",
       "Islamic State of Iraq (ISI)                      145\n",
       "Asa'ib Ahl al-Haqq                                65\n",
       "Gunmen                                            57\n",
       "Tawhid and Jihad                                  49\n",
       "Al-Naqshabandiya Army                             35\n",
       "Muslim extremists                                 31\n",
       "Ansar al-Islam                                    28\n",
       "Name: gname, dtype: int64"
      ]
     },
     "execution_count": 5,
     "metadata": {},
     "output_type": "execute_result"
    }
   ],
   "source": [
    "iraq_data = data[ data['country_txt'] == 'Iraq' ]\n",
    "iraq_data['gname'].value_counts()[:10]"
   ]
  },
  {
   "cell_type": "markdown",
   "metadata": {},
   "source": [
    "Here is a list of the Top 10 most active groups. Islamic State of Iraq and the Levant (ISIL) or ISIS tops this list."
   ]
  },
  {
   "cell_type": "markdown",
   "metadata": {},
   "source": [
    "**Objective**: In this report, we will see what can be inferred about ISIL's actions in Iraq. I chose ISIS because it is easy to verify our findings through online sources. Lets start answering questions one at a time."
   ]
  },
  {
   "cell_type": "code",
   "execution_count": 6,
   "metadata": {
    "collapsed": true
   },
   "outputs": [],
   "source": [
    "isis_iraq_data = iraq_data[iraq_data['gname'] == 'Islamic State of Iraq and the Levant (ISIL)']"
   ]
  },
  {
   "cell_type": "markdown",
   "metadata": {},
   "source": [
    "_How has ISIS's influence varied over the years in Iraq?_"
   ]
  },
  {
   "cell_type": "code",
   "execution_count": 55,
   "metadata": {},
   "outputs": [
    {
     "data": {
      "text/plain": [
       "2016    1202\n",
       "2014    1099\n",
       "2015     993\n",
       "2013     341\n",
       "Name: iyear, dtype: int64"
      ]
     },
     "execution_count": 55,
     "metadata": {},
     "output_type": "execute_result"
    }
   ],
   "source": [
    "data = isis_iraq_data['iyear'].value_counts()\n",
    "data"
   ]
  },
  {
   "cell_type": "markdown",
   "metadata": {},
   "source": [
    "At first, I found it strange as ISIS had it's first attacks in Iraq in 2013. After all, It was established in 1999, so you would expect some cases in Iraq before then. But I found out they refered to themselves by different names over the years. In April 2013,  _Islamic State of Iraq and the Levant_ or the modern ISIL was founded [1]. Their activity is clearly on the incline. "
   ]
  },
  {
   "cell_type": "markdown",
   "metadata": {},
   "source": [
    "_How many people has ISIS killed over the years in Iraq? Has it increases/decreased?_"
   ]
  },
  {
   "cell_type": "code",
   "execution_count": 56,
   "metadata": {},
   "outputs": [
    {
     "name": "stdout",
     "output_type": "stream",
     "text": [
      "Number of kills by ISIL in Iraq in  2013  =  1347.0\n",
      "Number of kills by ISIL in Iraq in  2014  =  7721.0\n",
      "Number of kills by ISIL in Iraq in  2015  =  5930.0\n",
      "Number of kills by ISIL in Iraq in  2016  =  9509.0\n"
     ]
    }
   ],
   "source": [
    "for year in range(2013,2017):\n",
    "    num_kills = sum(isis_iraq_data['nkill'][isis_iraq_data['iyear'] == year].dropna())\n",
    "    print(\"Number of kills by ISIL in Iraq in \", year, \" = \", num_kills)"
   ]
  },
  {
   "cell_type": "markdown",
   "metadata": {},
   "source": [
    "Clearly, ISIL has become more active in number of attacks and fatalities."
   ]
  },
  {
   "cell_type": "markdown",
   "metadata": {},
   "source": [
    "_What kind of attacks does ISIL usually go with in Iraq?_"
   ]
  },
  {
   "cell_type": "code",
   "execution_count": 7,
   "metadata": {},
   "outputs": [
    {
     "data": {
      "text/plain": [
       "Bombing/Explosion                      2467\n",
       "Unknown                                 423\n",
       "Hostage Taking (Kidnapping)             366\n",
       "Armed Assault                           245\n",
       "Assassination                            90\n",
       "Facility/Infrastructure Attack           28\n",
       "Hostage Taking (Barricade Incident)      12\n",
       "Hijacking                                 4\n",
       "Name: attacktype1_txt, dtype: int64"
      ]
     },
     "execution_count": 7,
     "metadata": {},
     "output_type": "execute_result"
    }
   ],
   "source": [
    "isis_iraq_data['attacktype1_txt'].value_counts()"
   ]
  },
  {
   "cell_type": "markdown",
   "metadata": {},
   "source": [
    "Looks like they are a fan of Bombs and Explosives. They used this method of attack for nearly **two-thirds** of their attacks in Iraq. Hostage Taking is also common in the form of Kidnapping. Barricading involves trapping a group of people. It is harder to accomplish, which is probably why it also is not a common method of attack.\n",
    "\n",
    "Let us take a look at the $12$ barricade incidents."
   ]
  },
  {
   "cell_type": "code",
   "execution_count": 10,
   "metadata": {},
   "outputs": [
    {
     "data": {
      "text/html": [
       "<div>\n",
       "<style>\n",
       "    .dataframe thead tr:only-child th {\n",
       "        text-align: right;\n",
       "    }\n",
       "\n",
       "    .dataframe thead th {\n",
       "        text-align: left;\n",
       "    }\n",
       "\n",
       "    .dataframe tbody tr th {\n",
       "        vertical-align: top;\n",
       "    }\n",
       "</style>\n",
       "<table border=\"1\" class=\"dataframe\">\n",
       "  <thead>\n",
       "    <tr style=\"text-align: right;\">\n",
       "      <th></th>\n",
       "      <th>success</th>\n",
       "      <th>nkill</th>\n",
       "      <th>provstate</th>\n",
       "    </tr>\n",
       "  </thead>\n",
       "  <tbody>\n",
       "    <tr>\n",
       "      <th>118632</th>\n",
       "      <td>1</td>\n",
       "      <td>5.0</td>\n",
       "      <td>Babil</td>\n",
       "    </tr>\n",
       "    <tr>\n",
       "      <th>122238</th>\n",
       "      <td>1</td>\n",
       "      <td>4.0</td>\n",
       "      <td>Al Anbar</td>\n",
       "    </tr>\n",
       "    <tr>\n",
       "      <th>124092</th>\n",
       "      <td>1</td>\n",
       "      <td>3.0</td>\n",
       "      <td>Kirkuk</td>\n",
       "    </tr>\n",
       "    <tr>\n",
       "      <th>124789</th>\n",
       "      <td>1</td>\n",
       "      <td>9.0</td>\n",
       "      <td>Saladin</td>\n",
       "    </tr>\n",
       "    <tr>\n",
       "      <th>126407</th>\n",
       "      <td>1</td>\n",
       "      <td>24.0</td>\n",
       "      <td>Baghdad</td>\n",
       "    </tr>\n",
       "    <tr>\n",
       "      <th>128086</th>\n",
       "      <td>1</td>\n",
       "      <td>9.0</td>\n",
       "      <td>Saladin</td>\n",
       "    </tr>\n",
       "    <tr>\n",
       "      <th>130427</th>\n",
       "      <td>1</td>\n",
       "      <td>9.0</td>\n",
       "      <td>Baghdad</td>\n",
       "    </tr>\n",
       "    <tr>\n",
       "      <th>132849</th>\n",
       "      <td>1</td>\n",
       "      <td>2.0</td>\n",
       "      <td>Al Anbar</td>\n",
       "    </tr>\n",
       "    <tr>\n",
       "      <th>142194</th>\n",
       "      <td>1</td>\n",
       "      <td>3.0</td>\n",
       "      <td>Diyala</td>\n",
       "    </tr>\n",
       "    <tr>\n",
       "      <th>143517</th>\n",
       "      <td>1</td>\n",
       "      <td>0.0</td>\n",
       "      <td>Kirkuk</td>\n",
       "    </tr>\n",
       "    <tr>\n",
       "      <th>157205</th>\n",
       "      <td>1</td>\n",
       "      <td>21.0</td>\n",
       "      <td>Baghdad</td>\n",
       "    </tr>\n",
       "    <tr>\n",
       "      <th>167934</th>\n",
       "      <td>1</td>\n",
       "      <td>18.0</td>\n",
       "      <td>Kirkuk</td>\n",
       "    </tr>\n",
       "  </tbody>\n",
       "</table>\n",
       "</div>"
      ],
      "text/plain": [
       "        success  nkill provstate\n",
       "118632        1    5.0     Babil\n",
       "122238        1    4.0  Al Anbar\n",
       "124092        1    3.0    Kirkuk\n",
       "124789        1    9.0   Saladin\n",
       "126407        1   24.0   Baghdad\n",
       "128086        1    9.0   Saladin\n",
       "130427        1    9.0   Baghdad\n",
       "132849        1    2.0  Al Anbar\n",
       "142194        1    3.0    Diyala\n",
       "143517        1    0.0    Kirkuk\n",
       "157205        1   21.0   Baghdad\n",
       "167934        1   18.0    Kirkuk"
      ]
     },
     "execution_count": 10,
     "metadata": {},
     "output_type": "execute_result"
    }
   ],
   "source": [
    "isis_iraq_data[['success' ,'nkill', 'provstate']][isis_iraq_data['attacktype1_txt'] == 'Hostage Taking (Barricade Incident)']"
   ]
  },
  {
   "cell_type": "markdown",
   "metadata": {},
   "source": [
    "We'll also plot a histogram while we are at it."
   ]
  },
  {
   "cell_type": "code",
   "execution_count": 20,
   "metadata": {},
   "outputs": [
    {
     "data": {
      "image/png": "[encoded data removed]",
      "text/plain": [
       "<matplotlib.figure.Figure at 0x119690dd8>"
      ]
     },
     "metadata": {},
     "output_type": "display_data"
    }
   ],
   "source": [
    "barricade = isis_iraq_data['nkill'][isis_iraq_data['attacktype1_txt'] == 'Hostage Taking (Barricade Incident)']\n",
    "sns.distplot(barricade, label=\"Barricade\")\n",
    "\n",
    "plt.legend()\n",
    "plt.show()"
   ]
  },
  {
   "cell_type": "markdown",
   "metadata": {},
   "source": [
    "Looks like all barricade attempts were a success. Baghdad seemed to be hit pretty hard by these type of attacks. \n",
    "\n",
    "_Who were the targets for the Kidnappings?_"
   ]
  },
  {
   "cell_type": "code",
   "execution_count": 57,
   "metadata": {},
   "outputs": [
    {
     "data": {
      "text/plain": [
       "Private Citizens & Property       209\n",
       "Police                             55\n",
       "Military                           40\n",
       "Journalists & Media                17\n",
       "Terrorists/Non-State Militia       14\n",
       "Government (General)               11\n",
       "Business                            7\n",
       "Religious Figures/Institutions      6\n",
       "Educational Institution             3\n",
       "Utilities                           1\n",
       "Transportation                      1\n",
       "Violent Political Party             1\n",
       "Government (Diplomatic)             1\n",
       "Name: targtype1_txt, dtype: int64"
      ]
     },
     "execution_count": 57,
     "metadata": {},
     "output_type": "execute_result"
    }
   ],
   "source": [
    "isis_iraq_data['targtype1_txt'][isis_iraq_data['attacktype1_txt'] == 'Hostage Taking (Kidnapping)'].value_counts()"
   ]
  },
  {
   "cell_type": "markdown",
   "metadata": {},
   "source": [
    "Private Citizens, the Police and Military are their primary targets. Can we get some intel on what _Private Citizens & Property_ represents?"
   ]
  },
  {
   "cell_type": "code",
   "execution_count": 58,
   "metadata": {},
   "outputs": [
    {
     "data": {
      "text/plain": [
       "Unnamed Civilian/Unspecified                                    155\n",
       "Laborer (General)/Occupation Identified                          25\n",
       "Religion Identified                                               7\n",
       "Political Party Member/Rally                                      5\n",
       "Named Civilian                                                    4\n",
       "Race/Ethnicity Identified                                         4\n",
       "Village/City/Town/Suburb                                          4\n",
       "Farmer                                                            2\n",
       "Protester                                                         1\n",
       "Student                                                           1\n",
       "Procession/Gathering (funeral, wedding, birthday, religious)      1\n",
       "Name: targsubtype1_txt, dtype: int64"
      ]
     },
     "execution_count": 58,
     "metadata": {},
     "output_type": "execute_result"
    }
   ],
   "source": [
    "isis_iraq_data['targsubtype1_txt'][(isis_iraq_data['targtype1_txt'] == 'Private Citizens & Property') & (isis_iraq_data['attacktype1_txt'] == 'Hostage Taking (Kidnapping)') ].value_counts()"
   ]
  },
  {
   "cell_type": "markdown",
   "metadata": {},
   "source": [
    "Of the specified Kidnapping of Citizens, we had 25 cases involving General Laborers. _Who exactly constituted these targetted labourers?_"
   ]
  },
  {
   "cell_type": "code",
   "execution_count": 59,
   "metadata": {},
   "outputs": [
    {
     "data": {
      "text/plain": [
       "Suspected Informants                                          8\n",
       "Suspected Spies                                               7\n",
       "Traders; Truck Drivers                                        1\n",
       "Leader of Albu-Riyash Clan: Sheikh Mahmud Nazim al-Kaka       1\n",
       "Mechanical Engineer: Zakariyah Ali Taha                       1\n",
       "Al Jabur Tribe Chief: Ibrahim Nayif al-Muhayri                1\n",
       "Tribal Leader: Shaykh Muzhir Muhammad al-Mashuh al-Jumayli    1\n",
       "Al-Sada al-Na'im Tribal Chief: Talib Ibrahim al-'Ali          1\n",
       "Surgeons                                                      1\n",
       "Former Islamic State of Iraq and the Levant (ISIL) Members    1\n",
       "Tribal Chieftains                                             1\n",
       "Doctors: Maha Sabhan, Lamia Ismail                            1\n",
       "Name: target1, dtype: int64"
      ]
     },
     "execution_count": 59,
     "metadata": {},
     "output_type": "execute_result"
    }
   ],
   "source": [
    "isis_iraq_data['target1'][ (isis_iraq_data['targsubtype1_txt'] == 'Laborer (General)/Occupation Identified') & (isis_iraq_data['targtype1_txt'] == 'Private Citizens & Property') & (isis_iraq_data['attacktype1_txt'] == 'Hostage Taking (Kidnapping)') ].value_counts()"
   ]
  },
  {
   "cell_type": "markdown",
   "metadata": {},
   "source": [
    "So The most \"documented\" targetted individuals were suspected spies and informants. I used the term _documented_ because 150 of 200 Private Citizens and propery targeted are unknown. \n",
    "\n",
    "_How does ISIL deal with other Terrorist groups and Non-State Militia?_"
   ]
  },
  {
   "cell_type": "code",
   "execution_count": 64,
   "metadata": {},
   "outputs": [
    {
     "data": {
      "text/plain": [
       "Bombing/Explosion              74\n",
       "Unknown                        29\n",
       "Armed Assault                  21\n",
       "Hostage Taking (Kidnapping)    14\n",
       "Assassination                   9\n",
       "Name: attacktype1_txt, dtype: int64"
      ]
     },
     "execution_count": 64,
     "metadata": {},
     "output_type": "execute_result"
    }
   ],
   "source": [
    "isis_iraq_data['attacktype1_txt'][ (isis_iraq_data['targtype1_txt'] == 'Terrorists/Non-State Militia')].value_counts()"
   ]
  },
  {
   "cell_type": "markdown",
   "metadata": {},
   "source": [
    "They deal with them like any other: Bombs, Armed Assault, Kidnapping and assassination. \n",
    "\n",
    "_Among their terrorist enemies, who do they assassinate?_"
   ]
  },
  {
   "cell_type": "code",
   "execution_count": 67,
   "metadata": {},
   "outputs": [
    {
     "data": {
      "text/plain": [
       "House of Leader        3\n",
       "Leader                 2\n",
       "Convoy of Commander    1\n",
       "Member                 1\n",
       "Commander              1\n",
       "Vehicle of Leader      1\n",
       "dtype: int64"
      ]
     },
     "execution_count": 67,
     "metadata": {},
     "output_type": "execute_result"
    }
   ],
   "source": [
    "targets = isis_iraq_data[['target1']][ (isis_iraq_data['attacktype1_txt'] == 'Assassination') & (isis_iraq_data['targtype1_txt'] == 'Terrorists/Non-State Militia') ]\n",
    "targets.apply( lambda x: x.str.split(':')[0][0] , axis=1).value_counts()"
   ]
  },
  {
   "cell_type": "markdown",
   "metadata": {},
   "source": [
    "Positions of Leader and Commander are targets for assassination."
   ]
  },
  {
   "cell_type": "markdown",
   "metadata": {},
   "source": [
    "_Who are these other terrorist groups/ Militias?_"
   ]
  },
  {
   "cell_type": "markdown",
   "metadata": {},
   "source": [
    "This will involve some _Natural Langauge Processing_. I create a function which takes 2 arguements:\n",
    "- **text**: The textual paragraph to be analyzed.\n",
    "- **regex**: The type of Keyphrases to look out for\n",
    "\n",
    "Initially, I combine all the content in the _summary_ column that describes the terrorist attacks on other Terrorists and Non-State Militia. This text is passed into the function which performs the following sequence of actions:\n",
    "1. **Word Tokenization**: Breaks the passage into constituent words.\n",
    "2. **Part of Speech Tagging**: Tag elements based on part of speech. A list of possible POS tags in [2]. \n",
    "3. **Chunk Unit**: They are the phrases you wish to recognize. I only consider phrases grater longer than bigrams, that is more than 2 word phrases.\n",
    "4. **Frequency Distribution**: Determine the frequency of occrrence of such phrases. The most common are your _key_ prases.\n",
    "\n",
    "I wrapped these 4 stages in a function so that we can reuse them for other NLP tasks."
   ]
  },
  {
   "cell_type": "code",
   "execution_count": 103,
   "metadata": {},
   "outputs": [
    {
     "name": "stdout",
     "output_type": "stream",
     "text": [
      "('islamic state of iraq', 129)\n",
      "('saladin governorate', 33)\n",
      "('volunteer fighters', 32)\n",
      "('explosive device', 31)\n",
      "('suicide bomber', 21)\n",
      "('state of iraq', 19)\n",
      "('explosives-laden vehicle', 15)\n",
      "('diyala governorate', 13)\n",
      "('al anbar', 13)\n",
      "('same day', 12)\n",
      "('security forces', 12)\n",
      "('baghdad city', 11)\n",
      "('baghdad governorate', 11)\n",
      "('sahwa council members', 8)\n",
      "('coordinated attacks', 8)\n",
      "('sahwa council leader', 7)\n",
      "('al anbar governorate', 7)\n",
      "('suicide bombers', 7)\n",
      "('sahwa member', 6)\n",
      "('sahwa council member', 6)\n",
      "('babil governorate', 6)\n",
      "('sahwa members', 5)\n",
      "('other people', 4)\n",
      "('militia members', 4)\n",
      "('volunteer forces', 4)\n",
      "('reported casualties', 3)\n",
      "('same night', 3)\n",
      "('security members', 3)\n",
      "('explosives-laden vehicles', 3)\n",
      "('unknown number of assailants', 3)\n",
      "('volunteer fighter commander', 3)\n",
      "('ramadi city', 2)\n",
      "('sahwa council building in daquq district', 2)\n",
      "('family members', 2)\n",
      "('samarra district', 2)\n",
      "('tikrit city', 2)\n",
      "('volunteer fighters in baiji district', 2)\n",
      "('sahwa council checkpoint in arab ebjur area', 2)\n",
      "('fire on volunteer fighters', 2)\n",
      "('baiji district', 2)\n",
      "('other members', 2)\n",
      "('security force members', 2)\n",
      "('volunteer fighters in bashir', 2)\n",
      "('explosives-rigged house', 2)\n",
      "('unknown number of civilians', 2)\n",
      "('hawijah district', 2)\n",
      "('volunteer fighter', 2)\n",
      "('coordinated assaults on iraqi volunteer forces', 2)\n",
      "('volunteer fighter patrol in arab ebjur area', 2)\n",
      "('militia members in saladin', 2)\n",
      "('volunteer fighters in arab ebjur', 2)\n",
      "('volunteer fighter leader', 2)\n"
     ]
    }
   ],
   "source": [
    "def text_manipulation(text, regex):\n",
    "    words = nltk.word_tokenize(text.lower())\n",
    "    tagged = nltk.pos_tag(words)\n",
    "\n",
    "    chunkGram = regex\n",
    "    \n",
    "    chunkParser = RegexpParser(chunkGram)\n",
    "    chunked = chunkParser.parse(tagged)\n",
    "\n",
    "    candidate_keywords = []\n",
    "    for tree in chunked.subtrees():\n",
    "        if (tree.label() == 'PHRASE') and (len(tree.leaves()) >= 2):\n",
    "            candidate_keyword = ' '.join([x for x,y in tree.leaves()])\n",
    "            candidate_keywords.append(candidate_keyword)\n",
    "\n",
    "    return Counter(candidate_keywords)\n",
    "    \n",
    "text = ' '.join(isis_iraq_data['summary'][isis_iraq_data['targtype1_txt'] == 'Terrorists/Non-State Militia'].dropna().tolist())\n",
    "common_phrases = text_manipulation(text, r\"\"\" PHRASE: {(<JJ>* <NN.*>+ <IN>)? <JJ>* <NN.*>+}\"\"\")\n",
    "for x,y in sorted(common_phrases.items(), key=operator.itemgetter(1), reverse=True):\n",
    "    if y>=2:\n",
    "        print((x,y))"
   ]
  },
  {
   "cell_type": "markdown",
   "metadata": {},
   "source": [
    "Looks like these Terrorist Groups & Militias they targeted include iraqi volunteer forces, volunteer fighters in arab ebjur area,baiji district and bashir. The names of Specific Militia are not mentioned in the summary. "
   ]
  },
  {
   "cell_type": "markdown",
   "metadata": {},
   "source": [
    "_Can we get more info on the nature of attack?_"
   ]
  },
  {
   "cell_type": "markdown",
   "metadata": {},
   "source": [
    "To get more information about the attacks on ISIL's association with Terrorist Groups/Militias, we parse the \"summary\" column and see what we can find. I am looking for information along the lines of \"X killed Y\" or \"X was killed\". If we were to perform Part of Speech tagging, the equivalent chunking unit would be \"The big bad wolf killed the lazy fox\". "
   ]
  },
  {
   "cell_type": "code",
   "execution_count": 111,
   "metadata": {},
   "outputs": [
    {
     "data": {
      "text/plain": [
       "[('The', 'DT'),\n",
       " ('big', 'JJ'),\n",
       " ('bad', 'JJ'),\n",
       " ('wolf', 'NN'),\n",
       " ('killed', 'VBD'),\n",
       " ('the', 'DT'),\n",
       " ('lazy', 'NN'),\n",
       " ('fox', 'NN')]"
      ]
     },
     "execution_count": 111,
     "metadata": {},
     "output_type": "execute_result"
    }
   ],
   "source": [
    "text = \"The big bad wolf killed the lazy fox\"\n",
    "words = nltk.word_tokenize(text)\n",
    "nltk.pos_tag(words)"
   ]
  },
  {
   "cell_type": "markdown",
   "metadata": {},
   "source": [
    "So I use a similar sequence of POS tags for creating chunks : $<JJ>? <NN.*>+ <VB.*>+ <DT>? <JJ>? <NN.*>+ $"
   ]
  },
  {
   "cell_type": "code",
   "execution_count": 113,
   "metadata": {},
   "outputs": [
    {
     "name": "stdout",
     "output_type": "stream",
     "text": [
      "('group claimed responsibility', 67)\n",
      "('sources attributed the attack', 59)\n",
      "('suicide bomber detonated an explosives-laden vehicle', 12)\n",
      "('assailants opened fire', 11)\n",
      "('assailants attacked volunteer fighters', 10)\n",
      "('security forces repelled the assault', 7)\n",
      "('explosive device detonated targeting a volunteer fighter patrol', 5)\n",
      "('assailants fired mortars', 4)\n",
      "('assailants attacked a sahwa council checkpoint', 3)\n",
      "('suicide bomber detonated targeting volunteer fighters', 3)\n",
      "('explosive device detonated targeting a vehicle', 3)\n",
      "('assailants attacked militia members', 3)\n",
      "('sources attributed the attacks', 3)\n",
      "('assailants detonated an explosive device', 2)\n",
      "('assailants stormed the residence', 2)\n",
      "('explosive device detonated targeting volunteer fighters', 2)\n",
      "('sources attributed the incident', 2)\n",
      "('assailants attacked a checkpoint', 2)\n",
      "('assailants planted explosive devices', 2)\n",
      "('assailants attacked volunteer forces', 2)\n",
      "('assailants fired rockets', 2)\n",
      "('assailants kidnapped an unknown number', 2)\n",
      "('assailants attacked a volunteer fighters', 2)\n",
      "('sniper opened fire', 2)\n"
     ]
    }
   ],
   "source": [
    "text = ' '.join(isis_iraq_data['summary'][isis_iraq_data['targtype1_txt'] == 'Terrorists/Non-State Militia'].dropna().tolist())\n",
    "common_phrases = text_manipulation(text, r\"\"\" PHRASE: {<JJ>? <NN.*>+ <VB.*>+ <DT>? <JJ>? <NN.*>+ }\"\"\")\n",
    "for x,y in sorted(common_phrases.items(), key=operator.itemgetter(1), reverse=True):\n",
    "    if y>=2:\n",
    "        print((x,y))"
   ]
  },
  {
   "cell_type": "markdown",
   "metadata": {},
   "source": [
    "A common method of dealing with these Militias is through detonation of an explosives-laden vehicle. Another tactic is through suicide bombers either in a vehicle or stapping bombs to their person. Not all attacks went successful as we see security forces repelled the assault."
   ]
  },
  {
   "cell_type": "markdown",
   "metadata": {},
   "source": [
    "_So why did ISIL attack parts of Iraq?_"
   ]
  },
  {
   "cell_type": "markdown",
   "metadata": {},
   "source": [
    "In other words, we need to explore the _motive_.The recommended way of looking for key phrases in the motive would be trying to chunk words according to a pattern like we did before."
   ]
  },
  {
   "cell_type": "code",
   "execution_count": 129,
   "metadata": {
    "scrolled": false
   },
   "outputs": [
    {
     "name": "stdout",
     "output_type": "stream",
     "text": [
      "('iraqi security forces', 23)\n",
      "('punish the police officer', 10)\n",
      "('distract security personnel', 3)\n",
      "('locate militants in iraq', 2)\n",
      "('islamic state of iraq', 2)\n",
      "('divert security forces', 2)\n",
      "('kurdish militias in syria', 1)\n",
      "('fight sunni muslims', 1)\n",
      "('allow security force', 1)\n",
      "('combat idolatry and disbelief in iraq', 1)\n",
      "('al anbar governorate', 1)\n",
      "('divert the attention of security personnel', 1)\n",
      "('distract security forces from operations', 1)\n"
     ]
    }
   ],
   "source": [
    "text = ' '.join(isis_iraq_data['motive'].dropna().tolist())\n",
    "common_phrases = text_manipulation(text,  r\"\"\" PHRASE: {<VB> <DT>? <NN.*>+ (<CC> <NN*>+)? <IN>? <NN.*>+}\"\"\")\n",
    "for x,y in sorted(common_phrases.items(), key=operator.itemgetter(1), reverse=True):\n",
    "    if y>=1:\n",
    "        print((x,y))"
   ]
  },
  {
   "cell_type": "markdown",
   "metadata": {},
   "source": [
    "On closer inspection of the motives, however we see that many of them are similar, word for word.So we could get away with a direct frequency distribution. This approach is very specific to the current dataset."
   ]
  },
  {
   "cell_type": "code",
   "execution_count": 134,
   "metadata": {},
   "outputs": [
    {
     "data": {
      "text/plain": [
       "In a statement posted online, Islamic State of Iraq and the Levant (ISIL) claimed responsibility and stated that the attacks were in response to Iraqi security forces arresting hundreds of Muslims.                                                                                                                                                                                                   23\n",
       "According to an online statement, Islamic State of Iraq and the Levant (ISIL) claimed responsibility for the incident, stating that the attack was in retaliation for the Iraqi government's alleged \"crimes\" against the minority Sunni community. Moreover, the armed Islamist outfit claims that the incident was part of its newly launched offensive campaign called \"Harvesting the Soldiers\".    23\n",
       "The specific motive is unknown; however, sources noted that the affected areas had witnessed a sharp increase in attacks on houses belonging to the army and police forces after Al-Qa ida distributed leaflets calling for security forces to leave their jobs or their homes will be blown up.                                                                                                        18\n",
       "A spokesperson for Islamic State of Iraq and the Levant (ISIL) stated that the attacks were in retaliation for the execution of Sunni prisoners on August 19, 2013.                                                                                                                                                                                                                                     18\n",
       "Islamic State of Iraq and the Levant (ISIL) claimed responsibility and stated that this and other coordinated bombings in Baghdad were in retaliation for intensified security  operations against insurgents in Sunni areas.                                                                                                                                                                           15\n",
       "The specific motive is unknown; however, sources noted that the victims were attempting to leave the area at the time of the attack.                                                                                                                                                                                                                                                                    14\n",
       "The specific motive is unknown; however, sources stated that the victims were accused of working with security personnel.                                                                                                                                                                                                                                                                               13\n",
       "Islamic State of Iraq and the Levant (ISIL) claimed responsibility for this and the other coordinated incidents in Baghdad on this day, stating that the attacks were in retaliation for security campaigns that \"target Sunni areas.\"                                                                                                                                                                  13\n",
       "The specific motive is unknown; however, sources noted that security forces dismantled a Sunni protest camp outside Ramadi on December 30, 2013, angering members of the Sunni community. Sources also noted that a number of prisoners were freed in the attack.                                                                                                                                       12\n",
       "The specific motive is unknown; however, sources posited that the Islamic State of Iraq and the Levant (ISIL) accused the victims of working with security personnel.                                                                                                                                                                                                                                   11\n",
       "Name: motive, dtype: int64"
      ]
     },
     "execution_count": 134,
     "metadata": {},
     "output_type": "execute_result"
    }
   ],
   "source": [
    "isis_iraq_data['motive'].dropna().value_counts()[:10]"
   ]
  },
  {
   "cell_type": "markdown",
   "metadata": {},
   "source": [
    "In the statements above, Baghdad seems to be a ceter location. In 30 cases, ISIL states the bombings in and around baghdad was retaliation for intensified security operations against insurgents in Sunni areas."
   ]
  },
  {
   "cell_type": "markdown",
   "metadata": {},
   "source": [
    "_Who are ISIL's targets in Baghdad?_"
   ]
  },
  {
   "cell_type": "code",
   "execution_count": 135,
   "metadata": {},
   "outputs": [
    {
     "data": {
      "text/html": [
       "<div>\n",
       "<style>\n",
       "    .dataframe thead tr:only-child th {\n",
       "        text-align: right;\n",
       "    }\n",
       "\n",
       "    .dataframe thead th {\n",
       "        text-align: left;\n",
       "    }\n",
       "\n",
       "    .dataframe tbody tr th {\n",
       "        vertical-align: top;\n",
       "    }\n",
       "</style>\n",
       "<table border=\"1\" class=\"dataframe\">\n",
       "  <thead>\n",
       "    <tr style=\"text-align: right;\">\n",
       "      <th></th>\n",
       "      <th>target1</th>\n",
       "      <th>success</th>\n",
       "      <th>attacktype1_txt</th>\n",
       "    </tr>\n",
       "  </thead>\n",
       "  <tbody>\n",
       "    <tr>\n",
       "      <th>118464</th>\n",
       "      <td>Car Dealership</td>\n",
       "      <td>1</td>\n",
       "      <td>Bombing/Explosion</td>\n",
       "    </tr>\n",
       "    <tr>\n",
       "      <th>118465</th>\n",
       "      <td>Civilians</td>\n",
       "      <td>1</td>\n",
       "      <td>Bombing/Explosion</td>\n",
       "    </tr>\n",
       "    <tr>\n",
       "      <th>119091</th>\n",
       "      <td>Civilians</td>\n",
       "      <td>1</td>\n",
       "      <td>Bombing/Explosion</td>\n",
       "    </tr>\n",
       "    <tr>\n",
       "      <th>120681</th>\n",
       "      <td>Restaurants</td>\n",
       "      <td>1</td>\n",
       "      <td>Bombing/Explosion</td>\n",
       "    </tr>\n",
       "    <tr>\n",
       "      <th>120682</th>\n",
       "      <td>Restaurants</td>\n",
       "      <td>1</td>\n",
       "      <td>Bombing/Explosion</td>\n",
       "    </tr>\n",
       "    <tr>\n",
       "      <th>120683</th>\n",
       "      <td>Restaurants</td>\n",
       "      <td>1</td>\n",
       "      <td>Bombing/Explosion</td>\n",
       "    </tr>\n",
       "    <tr>\n",
       "      <th>120684</th>\n",
       "      <td>Shia Neighborhood</td>\n",
       "      <td>1</td>\n",
       "      <td>Bombing/Explosion</td>\n",
       "    </tr>\n",
       "    <tr>\n",
       "      <th>120685</th>\n",
       "      <td>Police Station</td>\n",
       "      <td>1</td>\n",
       "      <td>Bombing/Explosion</td>\n",
       "    </tr>\n",
       "    <tr>\n",
       "      <th>120686</th>\n",
       "      <td>Ice Cream Shop</td>\n",
       "      <td>1</td>\n",
       "      <td>Bombing/Explosion</td>\n",
       "    </tr>\n",
       "    <tr>\n",
       "      <th>120687</th>\n",
       "      <td>Shia Civilians</td>\n",
       "      <td>1</td>\n",
       "      <td>Bombing/Explosion</td>\n",
       "    </tr>\n",
       "    <tr>\n",
       "      <th>120688</th>\n",
       "      <td>Shia Neighborhood</td>\n",
       "      <td>1</td>\n",
       "      <td>Bombing/Explosion</td>\n",
       "    </tr>\n",
       "    <tr>\n",
       "      <th>120689</th>\n",
       "      <td>Shia Neighborhood</td>\n",
       "      <td>1</td>\n",
       "      <td>Bombing/Explosion</td>\n",
       "    </tr>\n",
       "    <tr>\n",
       "      <th>120691</th>\n",
       "      <td>Shia Neighborhood</td>\n",
       "      <td>1</td>\n",
       "      <td>Bombing/Explosion</td>\n",
       "    </tr>\n",
       "    <tr>\n",
       "      <th>120692</th>\n",
       "      <td>Sunni Neighborhood</td>\n",
       "      <td>1</td>\n",
       "      <td>Bombing/Explosion</td>\n",
       "    </tr>\n",
       "    <tr>\n",
       "      <th>120693</th>\n",
       "      <td>Shia Civilians</td>\n",
       "      <td>1</td>\n",
       "      <td>Bombing/Explosion</td>\n",
       "    </tr>\n",
       "    <tr>\n",
       "      <th>120694</th>\n",
       "      <td>Restaurant</td>\n",
       "      <td>1</td>\n",
       "      <td>Bombing/Explosion</td>\n",
       "    </tr>\n",
       "    <tr>\n",
       "      <th>121515</th>\n",
       "      <td>Headquarters</td>\n",
       "      <td>1</td>\n",
       "      <td>Bombing/Explosion</td>\n",
       "    </tr>\n",
       "    <tr>\n",
       "      <th>121530</th>\n",
       "      <td>Civilians</td>\n",
       "      <td>1</td>\n",
       "      <td>Bombing/Explosion</td>\n",
       "    </tr>\n",
       "    <tr>\n",
       "      <th>121531</th>\n",
       "      <td>Vegetable Market</td>\n",
       "      <td>1</td>\n",
       "      <td>Bombing/Explosion</td>\n",
       "    </tr>\n",
       "    <tr>\n",
       "      <th>121532</th>\n",
       "      <td>Civilians</td>\n",
       "      <td>1</td>\n",
       "      <td>Bombing/Explosion</td>\n",
       "    </tr>\n",
       "    <tr>\n",
       "      <th>121533</th>\n",
       "      <td>Civilians</td>\n",
       "      <td>1</td>\n",
       "      <td>Bombing/Explosion</td>\n",
       "    </tr>\n",
       "    <tr>\n",
       "      <th>121534</th>\n",
       "      <td>Civilians</td>\n",
       "      <td>1</td>\n",
       "      <td>Bombing/Explosion</td>\n",
       "    </tr>\n",
       "    <tr>\n",
       "      <th>121535</th>\n",
       "      <td>Civilians</td>\n",
       "      <td>1</td>\n",
       "      <td>Bombing/Explosion</td>\n",
       "    </tr>\n",
       "    <tr>\n",
       "      <th>121536</th>\n",
       "      <td>Civilians</td>\n",
       "      <td>1</td>\n",
       "      <td>Bombing/Explosion</td>\n",
       "    </tr>\n",
       "    <tr>\n",
       "      <th>121537</th>\n",
       "      <td>Civilians</td>\n",
       "      <td>1</td>\n",
       "      <td>Bombing/Explosion</td>\n",
       "    </tr>\n",
       "    <tr>\n",
       "      <th>121538</th>\n",
       "      <td>Civilians</td>\n",
       "      <td>1</td>\n",
       "      <td>Bombing/Explosion</td>\n",
       "    </tr>\n",
       "    <tr>\n",
       "      <th>121543</th>\n",
       "      <td>Civilians</td>\n",
       "      <td>1</td>\n",
       "      <td>Bombing/Explosion</td>\n",
       "    </tr>\n",
       "    <tr>\n",
       "      <th>121544</th>\n",
       "      <td>Civilians</td>\n",
       "      <td>1</td>\n",
       "      <td>Bombing/Explosion</td>\n",
       "    </tr>\n",
       "    <tr>\n",
       "      <th>121545</th>\n",
       "      <td>Civilians</td>\n",
       "      <td>1</td>\n",
       "      <td>Bombing/Explosion</td>\n",
       "    </tr>\n",
       "    <tr>\n",
       "      <th>121546</th>\n",
       "      <td>Shia Civilians</td>\n",
       "      <td>1</td>\n",
       "      <td>Bombing/Explosion</td>\n",
       "    </tr>\n",
       "    <tr>\n",
       "      <th>121573</th>\n",
       "      <td>Civilians</td>\n",
       "      <td>1</td>\n",
       "      <td>Bombing/Explosion</td>\n",
       "    </tr>\n",
       "    <tr>\n",
       "      <th>121574</th>\n",
       "      <td>Civilians</td>\n",
       "      <td>1</td>\n",
       "      <td>Bombing/Explosion</td>\n",
       "    </tr>\n",
       "  </tbody>\n",
       "</table>\n",
       "</div>"
      ],
      "text/plain": [
       "                   target1  success    attacktype1_txt\n",
       "118464      Car Dealership        1  Bombing/Explosion\n",
       "118465           Civilians        1  Bombing/Explosion\n",
       "119091           Civilians        1  Bombing/Explosion\n",
       "120681         Restaurants        1  Bombing/Explosion\n",
       "120682         Restaurants        1  Bombing/Explosion\n",
       "120683         Restaurants        1  Bombing/Explosion\n",
       "120684   Shia Neighborhood        1  Bombing/Explosion\n",
       "120685      Police Station        1  Bombing/Explosion\n",
       "120686      Ice Cream Shop        1  Bombing/Explosion\n",
       "120687      Shia Civilians        1  Bombing/Explosion\n",
       "120688   Shia Neighborhood        1  Bombing/Explosion\n",
       "120689   Shia Neighborhood        1  Bombing/Explosion\n",
       "120691   Shia Neighborhood        1  Bombing/Explosion\n",
       "120692  Sunni Neighborhood        1  Bombing/Explosion\n",
       "120693      Shia Civilians        1  Bombing/Explosion\n",
       "120694          Restaurant        1  Bombing/Explosion\n",
       "121515        Headquarters        1  Bombing/Explosion\n",
       "121530           Civilians        1  Bombing/Explosion\n",
       "121531    Vegetable Market        1  Bombing/Explosion\n",
       "121532           Civilians        1  Bombing/Explosion\n",
       "121533           Civilians        1  Bombing/Explosion\n",
       "121534           Civilians        1  Bombing/Explosion\n",
       "121535           Civilians        1  Bombing/Explosion\n",
       "121536           Civilians        1  Bombing/Explosion\n",
       "121537           Civilians        1  Bombing/Explosion\n",
       "121538           Civilians        1  Bombing/Explosion\n",
       "121543           Civilians        1  Bombing/Explosion\n",
       "121544           Civilians        1  Bombing/Explosion\n",
       "121545           Civilians        1  Bombing/Explosion\n",
       "121546      Shia Civilians        1  Bombing/Explosion\n",
       "121573           Civilians        1  Bombing/Explosion\n",
       "121574           Civilians        1  Bombing/Explosion"
      ]
     },
     "execution_count": 135,
     "metadata": {},
     "output_type": "execute_result"
    }
   ],
   "source": [
    "isis_iraq_data[['target1', 'success','attacktype1_txt']][isis_iraq_data['motive'].str.contains('Baghdad', regex=True, na=False)]"
   ]
  },
  {
   "cell_type": "markdown",
   "metadata": {},
   "source": [
    "From the data, we observe the Siite Neighborhood and civilians are ISIL's targets."
   ]
  },
  {
   "cell_type": "markdown",
   "metadata": {},
   "source": [
    "_Let us take a look at the most targeted states/provinces in Iraq by ISIL_"
   ]
  },
  {
   "cell_type": "code",
   "execution_count": 167,
   "metadata": {},
   "outputs": [
    {
     "data": {
      "image/png": "[encoded data removed]",
      "text/plain": [
       "<matplotlib.figure.Figure at 0x1265be320>"
      ]
     },
     "metadata": {},
     "output_type": "display_data"
    }
   ],
   "source": [
    "data = dict(isis_iraq_data['provstate'].value_counts())\n",
    "x = list(data.keys())\n",
    "y = list(data.values())\n",
    "d = pd.DataFrame({'Place':x, 'Num Cases':y})\n",
    "\n",
    "sns.barplot(data=d[:10], x='Place', y='Num Cases') #Display top 10\n",
    "plt.show()"
   ]
  },
  {
   "cell_type": "markdown",
   "metadata": {},
   "source": [
    "The graph above displays the cities with the most number of terror attacks by ISIL. \n",
    "_What about Number of kills since ISIL's founding in 2013?_"
   ]
  },
  {
   "cell_type": "code",
   "execution_count": 180,
   "metadata": {},
   "outputs": [
    {
     "data": {
      "image/png": "[encoded data removed]",
      "text/plain": [
       "<matplotlib.figure.Figure at 0x126c12c88>"
      ]
     },
     "metadata": {},
     "output_type": "display_data"
    }
   ],
   "source": [
    "data = pd.DataFrame(columns=['Place', 'Num Kills'])\n",
    "\n",
    "i=0\n",
    "for place in isis_iraq_data['provstate'].unique():\n",
    "    num_kills = 0\n",
    "    \n",
    "    for year in range(2013,2017):\n",
    "        num_kills += sum(isis_iraq_data['nkill'][(isis_iraq_data['iyear'] == year) & (isis_iraq_data['provstate'] == place)].dropna())\n",
    "        \n",
    "    data.loc[i] = [place, num_kills]\n",
    "    i+=1\n",
    "        \n",
    "data = data.sort_values(by='Num Kills', ascending=False) \n",
    "sns.barplot(data=data[:10], x='Place', y='Num Kills') #Display top 10\n",
    "plt.show()"
   ]
  },
  {
   "cell_type": "markdown",
   "metadata": {},
   "source": [
    "Looks like Al Anbar, Nineveh, Saladin & Baghdad suffer the most fatalities with at least $3,000$ lives claimed in each city since 2013 by ISIL.\n",
    "\n",
    "_How has the number of fatalities varied over the course of 4 years: 2013-2016?_"
   ]
  },
  {
   "cell_type": "code",
   "execution_count": 191,
   "metadata": {},
   "outputs": [
    {
     "data": {
      "text/html": [
       "<div>\n",
       "<style>\n",
       "    .dataframe thead tr:only-child th {\n",
       "        text-align: right;\n",
       "    }\n",
       "\n",
       "    .dataframe thead th {\n",
       "        text-align: left;\n",
       "    }\n",
       "\n",
       "    .dataframe tbody tr th {\n",
       "        vertical-align: top;\n",
       "    }\n",
       "</style>\n",
       "<table border=\"1\" class=\"dataframe\">\n",
       "  <thead>\n",
       "    <tr style=\"text-align: right;\">\n",
       "      <th></th>\n",
       "      <th>Place</th>\n",
       "      <th>2013</th>\n",
       "      <th>2014</th>\n",
       "      <th>2015</th>\n",
       "      <th>2016</th>\n",
       "      <th>Total Kills</th>\n",
       "    </tr>\n",
       "  </thead>\n",
       "  <tbody>\n",
       "    <tr>\n",
       "      <th>5</th>\n",
       "      <td>Al Anbar</td>\n",
       "      <td>61.0</td>\n",
       "      <td>1374.0</td>\n",
       "      <td>2789.0</td>\n",
       "      <td>2405.0</td>\n",
       "      <td>6629.0</td>\n",
       "    </tr>\n",
       "    <tr>\n",
       "      <th>3</th>\n",
       "      <td>Nineveh</td>\n",
       "      <td>100.0</td>\n",
       "      <td>1949.0</td>\n",
       "      <td>569.0</td>\n",
       "      <td>3711.0</td>\n",
       "      <td>6329.0</td>\n",
       "    </tr>\n",
       "    <tr>\n",
       "      <th>2</th>\n",
       "      <td>Saladin</td>\n",
       "      <td>222.0</td>\n",
       "      <td>2220.0</td>\n",
       "      <td>947.0</td>\n",
       "      <td>1082.0</td>\n",
       "      <td>4471.0</td>\n",
       "    </tr>\n",
       "    <tr>\n",
       "      <th>0</th>\n",
       "      <td>Baghdad</td>\n",
       "      <td>561.0</td>\n",
       "      <td>936.0</td>\n",
       "      <td>601.0</td>\n",
       "      <td>956.0</td>\n",
       "      <td>3054.0</td>\n",
       "    </tr>\n",
       "    <tr>\n",
       "      <th>4</th>\n",
       "      <td>Diyala</td>\n",
       "      <td>182.0</td>\n",
       "      <td>538.0</td>\n",
       "      <td>543.0</td>\n",
       "      <td>175.0</td>\n",
       "      <td>1438.0</td>\n",
       "    </tr>\n",
       "    <tr>\n",
       "      <th>14</th>\n",
       "      <td>Kirkuk</td>\n",
       "      <td>38.0</td>\n",
       "      <td>185.0</td>\n",
       "      <td>273.0</td>\n",
       "      <td>544.0</td>\n",
       "      <td>1040.0</td>\n",
       "    </tr>\n",
       "    <tr>\n",
       "      <th>1</th>\n",
       "      <td>Babil</td>\n",
       "      <td>78.0</td>\n",
       "      <td>378.0</td>\n",
       "      <td>45.0</td>\n",
       "      <td>225.0</td>\n",
       "      <td>726.0</td>\n",
       "    </tr>\n",
       "    <tr>\n",
       "      <th>10</th>\n",
       "      <td>Arbil</td>\n",
       "      <td>14.0</td>\n",
       "      <td>11.0</td>\n",
       "      <td>151.0</td>\n",
       "      <td>284.0</td>\n",
       "      <td>460.0</td>\n",
       "    </tr>\n",
       "    <tr>\n",
       "      <th>13</th>\n",
       "      <td>Karbala</td>\n",
       "      <td>13.0</td>\n",
       "      <td>42.0</td>\n",
       "      <td>0.0</td>\n",
       "      <td>56.0</td>\n",
       "      <td>111.0</td>\n",
       "    </tr>\n",
       "    <tr>\n",
       "      <th>18</th>\n",
       "      <td>Unknown</td>\n",
       "      <td>0.0</td>\n",
       "      <td>58.0</td>\n",
       "      <td>2.0</td>\n",
       "      <td>0.0</td>\n",
       "      <td>60.0</td>\n",
       "    </tr>\n",
       "    <tr>\n",
       "      <th>12</th>\n",
       "      <td>Muthanna</td>\n",
       "      <td>3.0</td>\n",
       "      <td>3.0</td>\n",
       "      <td>0.0</td>\n",
       "      <td>38.0</td>\n",
       "      <td>44.0</td>\n",
       "    </tr>\n",
       "    <tr>\n",
       "      <th>6</th>\n",
       "      <td>Wasit</td>\n",
       "      <td>29.0</td>\n",
       "      <td>9.0</td>\n",
       "      <td>0.0</td>\n",
       "      <td>0.0</td>\n",
       "      <td>38.0</td>\n",
       "    </tr>\n",
       "    <tr>\n",
       "      <th>7</th>\n",
       "      <td>Basra</td>\n",
       "      <td>19.0</td>\n",
       "      <td>0.0</td>\n",
       "      <td>10.0</td>\n",
       "      <td>6.0</td>\n",
       "      <td>35.0</td>\n",
       "    </tr>\n",
       "    <tr>\n",
       "      <th>8</th>\n",
       "      <td>Dhi Qar</td>\n",
       "      <td>15.0</td>\n",
       "      <td>0.0</td>\n",
       "      <td>0.0</td>\n",
       "      <td>18.0</td>\n",
       "      <td>33.0</td>\n",
       "    </tr>\n",
       "    <tr>\n",
       "      <th>16</th>\n",
       "      <td>NIneveh</td>\n",
       "      <td>0.0</td>\n",
       "      <td>15.0</td>\n",
       "      <td>0.0</td>\n",
       "      <td>0.0</td>\n",
       "      <td>15.0</td>\n",
       "    </tr>\n",
       "    <tr>\n",
       "      <th>17</th>\n",
       "      <td>Sulaymaniyah</td>\n",
       "      <td>0.0</td>\n",
       "      <td>3.0</td>\n",
       "      <td>0.0</td>\n",
       "      <td>7.0</td>\n",
       "      <td>10.0</td>\n",
       "    </tr>\n",
       "    <tr>\n",
       "      <th>9</th>\n",
       "      <td>Najaf</td>\n",
       "      <td>8.0</td>\n",
       "      <td>0.0</td>\n",
       "      <td>0.0</td>\n",
       "      <td>0.0</td>\n",
       "      <td>8.0</td>\n",
       "    </tr>\n",
       "    <tr>\n",
       "      <th>11</th>\n",
       "      <td>Maysan</td>\n",
       "      <td>4.0</td>\n",
       "      <td>0.0</td>\n",
       "      <td>0.0</td>\n",
       "      <td>0.0</td>\n",
       "      <td>4.0</td>\n",
       "    </tr>\n",
       "    <tr>\n",
       "      <th>19</th>\n",
       "      <td>Dihok</td>\n",
       "      <td>0.0</td>\n",
       "      <td>0.0</td>\n",
       "      <td>0.0</td>\n",
       "      <td>2.0</td>\n",
       "      <td>2.0</td>\n",
       "    </tr>\n",
       "    <tr>\n",
       "      <th>15</th>\n",
       "      <td>Al Qadisiyah</td>\n",
       "      <td>0.0</td>\n",
       "      <td>0.0</td>\n",
       "      <td>0.0</td>\n",
       "      <td>0.0</td>\n",
       "      <td>0.0</td>\n",
       "    </tr>\n",
       "  </tbody>\n",
       "</table>\n",
       "</div>"
      ],
      "text/plain": [
       "           Place   2013    2014    2015    2016  Total Kills\n",
       "5       Al Anbar   61.0  1374.0  2789.0  2405.0       6629.0\n",
       "3        Nineveh  100.0  1949.0   569.0  3711.0       6329.0\n",
       "2        Saladin  222.0  2220.0   947.0  1082.0       4471.0\n",
       "0        Baghdad  561.0   936.0   601.0   956.0       3054.0\n",
       "4         Diyala  182.0   538.0   543.0   175.0       1438.0\n",
       "14        Kirkuk   38.0   185.0   273.0   544.0       1040.0\n",
       "1          Babil   78.0   378.0    45.0   225.0        726.0\n",
       "10         Arbil   14.0    11.0   151.0   284.0        460.0\n",
       "13       Karbala   13.0    42.0     0.0    56.0        111.0\n",
       "18       Unknown    0.0    58.0     2.0     0.0         60.0\n",
       "12      Muthanna    3.0     3.0     0.0    38.0         44.0\n",
       "6          Wasit   29.0     9.0     0.0     0.0         38.0\n",
       "7          Basra   19.0     0.0    10.0     6.0         35.0\n",
       "8        Dhi Qar   15.0     0.0     0.0    18.0         33.0\n",
       "16       NIneveh    0.0    15.0     0.0     0.0         15.0\n",
       "17  Sulaymaniyah    0.0     3.0     0.0     7.0         10.0\n",
       "9          Najaf    8.0     0.0     0.0     0.0          8.0\n",
       "11        Maysan    4.0     0.0     0.0     0.0          4.0\n",
       "19         Dihok    0.0     0.0     0.0     2.0          2.0\n",
       "15  Al Qadisiyah    0.0     0.0     0.0     0.0          0.0"
      ]
     },
     "execution_count": 191,
     "metadata": {},
     "output_type": "execute_result"
    }
   ],
   "source": [
    "data = pd.DataFrame(columns=['Place', '2013', '2014', '2015', '2016', 'Total Kills'])\n",
    "\n",
    "i=0\n",
    "for place in isis_iraq_data['provstate'].unique():\n",
    "    num_kills = []\n",
    "    \n",
    "    for year in range(2013,2017):\n",
    "        num_kills.append(sum(isis_iraq_data['nkill'][(isis_iraq_data['iyear'] == year) & (isis_iraq_data['provstate'] == place)].dropna()))\n",
    "        \n",
    "    data.loc[i] = [place, num_kills[0], num_kills[1], num_kills[2], num_kills[3], sum(num_kills)]\n",
    "    i+=1\n",
    "        \n",
    "data = data.sort_values(by='Total Kills', ascending=False) \n",
    "data"
   ]
  },
  {
   "cell_type": "markdown",
   "metadata": {},
   "source": [
    "For easier comparison, we will construct a multi-bar plot. Pandas constructs such plots by initially reshaping the dataframe using pandas' _melt_ method [3]. \n",
    "\n",
    "This function increases the number of rows and combines columns 2013 to 2016 under a common _Year_ banner. I have displayed the example output of the function after excluding some minor cities."
   ]
  },
  {
   "cell_type": "code",
   "execution_count": 226,
   "metadata": {},
   "outputs": [
    {
     "data": {
      "text/html": [
       "<div>\n",
       "<style>\n",
       "    .dataframe thead tr:only-child th {\n",
       "        text-align: right;\n",
       "    }\n",
       "\n",
       "    .dataframe thead th {\n",
       "        text-align: left;\n",
       "    }\n",
       "\n",
       "    .dataframe tbody tr th {\n",
       "        vertical-align: top;\n",
       "    }\n",
       "</style>\n",
       "<table border=\"1\" class=\"dataframe\">\n",
       "  <thead>\n",
       "    <tr style=\"text-align: right;\">\n",
       "      <th></th>\n",
       "      <th>Place</th>\n",
       "      <th>Year</th>\n",
       "      <th>Kill Count</th>\n",
       "    </tr>\n",
       "  </thead>\n",
       "  <tbody>\n",
       "    <tr>\n",
       "      <th>0</th>\n",
       "      <td>Al Anbar</td>\n",
       "      <td>2013</td>\n",
       "      <td>61.0</td>\n",
       "    </tr>\n",
       "    <tr>\n",
       "      <th>1</th>\n",
       "      <td>Nineveh</td>\n",
       "      <td>2013</td>\n",
       "      <td>100.0</td>\n",
       "    </tr>\n",
       "    <tr>\n",
       "      <th>2</th>\n",
       "      <td>Saladin</td>\n",
       "      <td>2013</td>\n",
       "      <td>222.0</td>\n",
       "    </tr>\n",
       "    <tr>\n",
       "      <th>3</th>\n",
       "      <td>Baghdad</td>\n",
       "      <td>2013</td>\n",
       "      <td>561.0</td>\n",
       "    </tr>\n",
       "    <tr>\n",
       "      <th>4</th>\n",
       "      <td>Diyala</td>\n",
       "      <td>2013</td>\n",
       "      <td>182.0</td>\n",
       "    </tr>\n",
       "    <tr>\n",
       "      <th>5</th>\n",
       "      <td>Kirkuk</td>\n",
       "      <td>2013</td>\n",
       "      <td>38.0</td>\n",
       "    </tr>\n",
       "    <tr>\n",
       "      <th>6</th>\n",
       "      <td>Babil</td>\n",
       "      <td>2013</td>\n",
       "      <td>78.0</td>\n",
       "    </tr>\n",
       "    <tr>\n",
       "      <th>7</th>\n",
       "      <td>Arbil</td>\n",
       "      <td>2013</td>\n",
       "      <td>14.0</td>\n",
       "    </tr>\n",
       "    <tr>\n",
       "      <th>8</th>\n",
       "      <td>Karbala</td>\n",
       "      <td>2013</td>\n",
       "      <td>13.0</td>\n",
       "    </tr>\n",
       "    <tr>\n",
       "      <th>9</th>\n",
       "      <td>Unknown</td>\n",
       "      <td>2013</td>\n",
       "      <td>0.0</td>\n",
       "    </tr>\n",
       "    <tr>\n",
       "      <th>10</th>\n",
       "      <td>Muthanna</td>\n",
       "      <td>2013</td>\n",
       "      <td>3.0</td>\n",
       "    </tr>\n",
       "    <tr>\n",
       "      <th>11</th>\n",
       "      <td>Wasit</td>\n",
       "      <td>2013</td>\n",
       "      <td>29.0</td>\n",
       "    </tr>\n",
       "    <tr>\n",
       "      <th>12</th>\n",
       "      <td>Basra</td>\n",
       "      <td>2013</td>\n",
       "      <td>19.0</td>\n",
       "    </tr>\n",
       "    <tr>\n",
       "      <th>13</th>\n",
       "      <td>Dhi Qar</td>\n",
       "      <td>2013</td>\n",
       "      <td>15.0</td>\n",
       "    </tr>\n",
       "    <tr>\n",
       "      <th>14</th>\n",
       "      <td>NIneveh</td>\n",
       "      <td>2013</td>\n",
       "      <td>0.0</td>\n",
       "    </tr>\n",
       "    <tr>\n",
       "      <th>15</th>\n",
       "      <td>Sulaymaniyah</td>\n",
       "      <td>2013</td>\n",
       "      <td>0.0</td>\n",
       "    </tr>\n",
       "    <tr>\n",
       "      <th>16</th>\n",
       "      <td>Najaf</td>\n",
       "      <td>2013</td>\n",
       "      <td>8.0</td>\n",
       "    </tr>\n",
       "    <tr>\n",
       "      <th>17</th>\n",
       "      <td>Maysan</td>\n",
       "      <td>2013</td>\n",
       "      <td>4.0</td>\n",
       "    </tr>\n",
       "    <tr>\n",
       "      <th>18</th>\n",
       "      <td>Dihok</td>\n",
       "      <td>2013</td>\n",
       "      <td>0.0</td>\n",
       "    </tr>\n",
       "    <tr>\n",
       "      <th>19</th>\n",
       "      <td>Al Qadisiyah</td>\n",
       "      <td>2013</td>\n",
       "      <td>0.0</td>\n",
       "    </tr>\n",
       "    <tr>\n",
       "      <th>20</th>\n",
       "      <td>Al Anbar</td>\n",
       "      <td>2014</td>\n",
       "      <td>1374.0</td>\n",
       "    </tr>\n",
       "    <tr>\n",
       "      <th>21</th>\n",
       "      <td>Nineveh</td>\n",
       "      <td>2014</td>\n",
       "      <td>1949.0</td>\n",
       "    </tr>\n",
       "    <tr>\n",
       "      <th>22</th>\n",
       "      <td>Saladin</td>\n",
       "      <td>2014</td>\n",
       "      <td>2220.0</td>\n",
       "    </tr>\n",
       "    <tr>\n",
       "      <th>23</th>\n",
       "      <td>Baghdad</td>\n",
       "      <td>2014</td>\n",
       "      <td>936.0</td>\n",
       "    </tr>\n",
       "    <tr>\n",
       "      <th>24</th>\n",
       "      <td>Diyala</td>\n",
       "      <td>2014</td>\n",
       "      <td>538.0</td>\n",
       "    </tr>\n",
       "    <tr>\n",
       "      <th>25</th>\n",
       "      <td>Kirkuk</td>\n",
       "      <td>2014</td>\n",
       "      <td>185.0</td>\n",
       "    </tr>\n",
       "    <tr>\n",
       "      <th>26</th>\n",
       "      <td>Babil</td>\n",
       "      <td>2014</td>\n",
       "      <td>378.0</td>\n",
       "    </tr>\n",
       "    <tr>\n",
       "      <th>27</th>\n",
       "      <td>Arbil</td>\n",
       "      <td>2014</td>\n",
       "      <td>11.0</td>\n",
       "    </tr>\n",
       "    <tr>\n",
       "      <th>28</th>\n",
       "      <td>Karbala</td>\n",
       "      <td>2014</td>\n",
       "      <td>42.0</td>\n",
       "    </tr>\n",
       "    <tr>\n",
       "      <th>29</th>\n",
       "      <td>Unknown</td>\n",
       "      <td>2014</td>\n",
       "      <td>58.0</td>\n",
       "    </tr>\n",
       "  </tbody>\n",
       "</table>\n",
       "</div>"
      ],
      "text/plain": [
       "           Place  Year  Kill Count\n",
       "0       Al Anbar  2013        61.0\n",
       "1        Nineveh  2013       100.0\n",
       "2        Saladin  2013       222.0\n",
       "3        Baghdad  2013       561.0\n",
       "4         Diyala  2013       182.0\n",
       "5         Kirkuk  2013        38.0\n",
       "6          Babil  2013        78.0\n",
       "7          Arbil  2013        14.0\n",
       "8        Karbala  2013        13.0\n",
       "9        Unknown  2013         0.0\n",
       "10      Muthanna  2013         3.0\n",
       "11         Wasit  2013        29.0\n",
       "12         Basra  2013        19.0\n",
       "13       Dhi Qar  2013        15.0\n",
       "14       NIneveh  2013         0.0\n",
       "15  Sulaymaniyah  2013         0.0\n",
       "16         Najaf  2013         8.0\n",
       "17        Maysan  2013         4.0\n",
       "18         Dihok  2013         0.0\n",
       "19  Al Qadisiyah  2013         0.0\n",
       "20      Al Anbar  2014      1374.0\n",
       "21       Nineveh  2014      1949.0\n",
       "22       Saladin  2014      2220.0\n",
       "23       Baghdad  2014       936.0\n",
       "24        Diyala  2014       538.0\n",
       "25        Kirkuk  2014       185.0\n",
       "26         Babil  2014       378.0\n",
       "27         Arbil  2014        11.0\n",
       "28       Karbala  2014        42.0\n",
       "29       Unknown  2014        58.0"
      ]
     },
     "execution_count": 226,
     "metadata": {},
     "output_type": "execute_result"
    }
   ],
   "source": [
    "df = pd.melt(data, id_vars=\"Place\", var_name=\"Year\", value_name=\"Kill Count\")\n",
    "places = df[ (~df['Place'].isin(['Wasit', 'Basra', 'Dhi Qar', 'Najaf', 'Maysan', 'Muthanna','Kirkuk', \n",
    "                                 'Al Qadisiyah', 'NIneveh', 'Sulaymaniyah','Unknown', 'Dihok'])) & \n",
    "             (~df['Year'].str.contains('Total Kills'))] #Exclude certain places\n",
    "\n",
    "df[:30] #Just the first 30 entries for understanding"
   ]
  },
  {
   "cell_type": "markdown",
   "metadata": {},
   "source": [
    "Since there are going to be a ton of bar graphs on a single graph, I resize the chart using matplotlib's pyplot. At the time of writing this post, there is no way to vary plot sizes in seaborn."
   ]
  },
  {
   "cell_type": "code",
   "execution_count": 225,
   "metadata": {},
   "outputs": [
    {
     "data": {
      "image/png": "[encoded data removed]",
      "text/plain": [
       "<matplotlib.figure.Figure at 0x127d40be0>"
      ]
     },
     "metadata": {},
     "output_type": "display_data"
    },
    {
     "data": {
      "image/png": "[encoded data removed]",
      "text/plain": [
       "<matplotlib.figure.Figure at 0x127bd3198>"
      ]
     },
     "metadata": {},
     "output_type": "display_data"
    }
   ],
   "source": [
    "# Make the plot bigger\n",
    "a4_dims = (13, 8.27)\n",
    "fig, ax = plt.subplots(figsize=a4_dims)\n",
    "\n",
    "sns.factorplot(x='Place', y='Kill Count', hue='Year', data=places, kind='bar', ax=ax)\n",
    "plt.show()"
   ]
  },
  {
   "cell_type": "markdown",
   "metadata": {},
   "source": [
    "Although the total number of fatalities in Nineveh is less than that in Al Anbar, many more people died in Nineveh than any other city by far in 2016. Al Anbar actually saw more fatalities in the previous year."
   ]
  },
  {
   "cell_type": "markdown",
   "metadata": {},
   "source": [
    "We can go on answering questions by analyzing data for a single Terror group in a single country. Thought this was a better approach than just getting a partial birdseye view of the data."
   ]
  },
  {
   "cell_type": "markdown",
   "metadata": {},
   "source": [
    "## References\n",
    "\n",
    "[1]  [Timeline of ISIL Related Events](https://en.wikipedia.org/wiki/Timeline_of_ISIL-related_events)\n",
    "\n",
    "[2]  [List of part of speech tagging terms](https://pythonprogramming.net/natural-language-toolkit-nltk-part-speech-tagging/)\n",
    "\n",
    "[3]   [Seaborn: Multiple barplots](https://stackoverflow.com/questions/38807895/seaborn-multiple-barplots)"
   ]
  }
 ],
 "metadata": {
  "kernelspec": {
   "display_name": "Python 3",
   "language": "python",
   "name": "python3"
  },
  "language_info": {
   "codemirror_mode": {
    "name": "ipython",
    "version": 3
   },
   "file_extension": ".py",
   "mimetype": "text/x-python",
   "name": "python",
   "nbconvert_exporter": "python",
   "pygments_lexer": "ipython3",
   "version": "3.6.1"
  }
 },
 "nbformat": 4,
 "nbformat_minor": 2
}
